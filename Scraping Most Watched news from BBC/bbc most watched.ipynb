{
 "cells": [
  {
   "cell_type": "code",
   "execution_count": 1,
   "metadata": {},
   "outputs": [
    {
     "name": "stdout",
     "output_type": "stream",
     "text": [
      "BBC visits Belarus camp offered to Wagner\n",
      "https://www.bbc.com/news/world-europe-66140699\n",
      "Hail batters Spain creating icy urban scenes\n",
      "https://www.bbc.com/news/world-europe-66140574\n",
      "At the scene the day after fatal Wimbledon crash\n",
      "https://www.bbc.com/news/uk-66131233\n",
      "The heat index explained in...90 seconds\n",
      "https://www.bbc.com/news/world-us-canada-66071216\n",
      "Australians smash Tina Turner dancing world record\n",
      "https://www.bbc.com/news/world-australia-66129928\n"
     ]
    }
   ],
   "source": [
    "import requests\n",
    "from bs4 import BeautifulSoup\n",
    "from urllib.parse import urljoin\n",
    "\n",
    "url = 'https://www.bbc.com/news'\n",
    "response = requests.get(url)\n",
    "soup = BeautifulSoup(response.content, 'html.parser')\n",
    "most_watch = soup.find('ol', class_='gel-layout gel-layout--no-flex')\n",
    "\n",
    "for item in most_watch.find_all('li'):\n",
    "    heading = item.find('span', class_='gs-c-promo-heading__title gel-pica-bold')\n",
    "    link = item.find('a', href=True)\n",
    "    \n",
    "    if heading is not None and link is not None:\n",
    "        print(heading.get_text())\n",
    "        absolute_link = urljoin(url, link.get('href'))\n",
    "        print(absolute_link)\n"
   ]
  }
 ],
 "metadata": {
  "kernelspec": {
   "display_name": "Python 3",
   "language": "python",
   "name": "python3"
  },
  "language_info": {
   "codemirror_mode": {
    "name": "ipython",
    "version": 3
   },
   "file_extension": ".py",
   "mimetype": "text/x-python",
   "name": "python",
   "nbconvert_exporter": "python",
   "pygments_lexer": "ipython3",
   "version": "3.10.6"
  },
  "orig_nbformat": 4
 },
 "nbformat": 4,
 "nbformat_minor": 2
}
